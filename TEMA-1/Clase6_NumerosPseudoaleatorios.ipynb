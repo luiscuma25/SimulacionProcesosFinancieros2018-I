{
 "cells": [
  {
   "cell_type": "markdown",
   "metadata": {},
   "source": [
    "# Generación de números pseudoaleatorios\n",
    "\n",
    "<img style=\"float: center; margin: 0px 0px 15px 15px;\" src=\"https://upload.wikimedia.org/wikipedia/commons/6/6a/Dice.jpg\" width=\"300px\" height=\"100px\" />\n",
    "\n",
    "**Referencias de la clase:**\n",
    "- https://webs.um.es/mpulido/miwiki/lib/exe/fetch.php?id=amio&cache=cache&media=wiki:simt1b.pdf\n",
    "- http://www.lmpt.univ-tours.fr/~nicolis/Licence_NEW/08-09/boxmuller.pdf\n",
    "\n",
    "**Referencias de las librerías que usaremos:**\n",
    "- http://www.numpy.org/\n",
    "- https://matplotlib.org/"
   ]
  },
  {
   "cell_type": "markdown",
   "metadata": {},
   "source": [
    "___\n",
    "## 0. Introducción\n",
    "\n",
    "- Los números aleatorios son la base esencial de la simulación de escenarios.\n",
    "- Toda la aleatoriedad involucrada en el modelo se obtiene a partir de un generador de números aleatorios que produce una sucesión de valores que supuestamente son realizaciones de una secuencia de variables aleatorias independientes e idénticamente distribuidas.\n",
    "\n",
    "*<font color = blue> Contar la historia barata de la lotería... </font>*"
   ]
  },
  {
   "cell_type": "markdown",
   "metadata": {},
   "source": [
    "### 0.1 ¿Qué es un número pseudoaleatorio?\n",
    "\n",
    "<img style=\"float: right; margin: 0px 0px 15px 15px;\" src=\"http://www.publicdomainpictures.net/pictures/50000/velka/random-numbers.jpg\" width=\"300px\" height=\"100px\" />\n",
    "\n",
    "- Es un número generado en un proceso que parece producir números al azar, pero no lo hace realmente.\n",
    "- Las secuencias de números pseudoaleatorios no muestran ningún patrón o regularidad aparente desde un punto de vista estadístico, a pesar de haber sido generadas por un algoritmo completamente determinista, en el que las mismas condiciones iniciales producen siempre el mismo resultado.\n",
    "- Por lo general, el interés no radica en generar un solo número aleatorio, sino muchos, reunidos en lo que se conoce como secuencia aleatoria.\n",
    "\n",
    "### 0.2 ¿En qué se aplican?\n",
    "\n",
    "- Modelado y simulación por computadora, estadística, diseño experimental. Normalmente, la entropía (aletoriedad) de los números que se generan actualmente basta para estas aplicaciones.\n",
    "- Criptografía. Este campo sigue estando en constante investigación, y por tanto la generación de números aleatorios también.\n",
    "- Asimismo, también destacan su uso en el llamado método de Montecarlo, con múltiples utilidades.\n",
    "- Entre otros...\n",
    "\n",
    "### 0.3 Funcionamiento básico\n",
    "\n",
    "- Elegir una semilla inicial (condición inicial) $x_0$.\n",
    "- Generar una sucesión de valores $x_n$ mediante la relación de recurrencia $x_n=T(x_{n-1})$.\n",
    "\n",
    "> Generalmente, esta secuencia es de números pseudoaleatorios $\\mathcal{U}(0,1)$.\n",
    "\n",
    "- Finalmente, se genera un número pseudoaleatorio con distribución deseada, definido a través de alguna relación $u_n=g(x_n)$.\n",
    "- Estas sucesiones son periódicas. Es decir, en algún momento ocurrirá que $x_j = x_i$ para algún $j > i$.\n",
    "\n",
    "### 0.4 ¿Cuándo un generador de números pseudoaleatorios es bueno?\n",
    "\n",
    "- La sucesión de valores que proporcione deberı́a asemejarse a una sucesión de realizaciones independientes de una variable aleatoria $\\mathcal{U}(0, 1)$.\n",
    "- Los resultados deben ser reproducibles, en el sentido de que comenzando con la misma semilla inicial, debe ser capaz de reproducir la misma sucesión. Esto para poder probar diferentes alternativas bajo las mismas condiciones y/o poder depurar fallos en el modelo.\n",
    "- La sucesión de valores generados debe tener un periodo no repetitivo tan largo como sea posible."
   ]
  },
  {
   "cell_type": "markdown",
   "metadata": {},
   "source": [
    "___\n",
    "## 1. Métodos congruenciales para generación de números pseudoaleatorios $\\mathcal{U}(0,1)$\n",
    "\n",
    "- Introducidos por Lehmer en 1951.\n",
    "- Son los principales generadores de números pseudoaleatorios utilizados hoy en día.\n",
    "\n",
    "### 1.1 Descripción general del método\n",
    "\n",
    "- Comienza con un valor inicial (semilla) $x_0$, y los valores subsiguientes, $x_n$ para $n \\geq 1$, se obtienen recursivamente con la siguiente fórmula:\n",
    "$$x_n = (ax_{n−1} + b) \\mod m.$$\n",
    "- En la fórmula de arriba $\\text{mod}$ representa la operación residuo.\n",
    "- Los enteros positivos $m$, $a$ y $b$ en la fórmula se denominan:\n",
    " - $0<m$ es el módulo,\n",
    " - $0<a<m$ es el multiplicador, y\n",
    " - $0\\leq b <m$ es el incremento.\n",
    " - La semilla debe satisfacer $0\\leq x_0<m$.\n",
    "- Si $b = 0$, el generador se denomina multiplicativo.\n",
    "- En caso contrario se llama mixto."
   ]
  },
  {
   "cell_type": "markdown",
   "metadata": {},
   "source": [
    "**Ejemplo**\n",
    "\n",
    "Para tomar intuición con este método, probar a mano con los siguientes conjuntos de parámetros:\n",
    "1. $m=9$, $a=5$, $b=1$, $x_0=1$.\n",
    "2. $m=16$, $a=5$, $b=3$, $x_0=7$."
   ]
  },
  {
   "cell_type": "code",
   "execution_count": 7,
   "metadata": {},
   "outputs": [
    {
     "data": {
      "text/plain": [
       "7"
      ]
     },
     "execution_count": 7,
     "metadata": {},
     "output_type": "execute_result"
    }
   ],
   "source": [
    "16%9"
   ]
  },
  {
   "cell_type": "markdown",
   "metadata": {},
   "source": [
    "De acuerdo a lo anterior, ¿cómo son los números $x_i$?, ¿representa esto algún problema?, ¿cómo se podría solucionar?\n",
    "\n",
    "<font color=red> Enunciar problemas con sus respectivas soluciones... </font>"
   ]
  },
  {
   "cell_type": "markdown",
   "metadata": {},
   "source": [
    "En efecto, un generador congruencial queda completamente determinado por los parámetros $m$, $a$, $b$ y $x_0$.\n",
    "\n",
    "**Proposición.** Los valores generados por un método congruencial verifican:\n",
    "\n",
    "$$x_n = \\left(a^n x_0+b\\frac{a^n-1}{a-1}\\right) \\mod m.$$\n",
    "\n",
    "<font color=blue> Verificar esto en el pizarrón. </font>"
   ]
  },
  {
   "cell_type": "markdown",
   "metadata": {},
   "source": [
    "### 1.2 Programemos este método\n",
    "\n",
    "De acuerdo a lo descrito arriba, quisiéramos programar una función que reciba:\n",
    "- la semilla $x_0$,\n",
    "- el multiplicador $a$,\n",
    "- el incremento $b$,\n",
    "- el módulo $m$, y\n",
    "- la cantidad de elementos de la secuencia pseudoaleatoria requeridos $n$,\n",
    "\n",
    "y que retorne la secuencia pseudoaleatoria de longitud $n$."
   ]
  },
  {
   "cell_type": "code",
   "execution_count": 8,
   "metadata": {
    "collapsed": true
   },
   "outputs": [],
   "source": [
    "#### Importar la librería numpy... útil para el manejo de datos n-dimensionales (vectores)\n",
    "import numpy as np"
   ]
  },
  {
   "cell_type": "code",
   "execution_count": 16,
   "metadata": {},
   "outputs": [
    {
     "data": {
      "text/plain": [
       "array([2, 4, 8], dtype=int32)"
      ]
     },
     "execution_count": 16,
     "metadata": {},
     "output_type": "execute_result"
    }
   ],
   "source": [
    "# Elevar una constante a un vector\n",
    "b=np.array([1, 2, 3])\n",
    "2**b"
   ]
  },
  {
   "cell_type": "code",
   "execution_count": 9,
   "metadata": {
    "collapsed": true
   },
   "outputs": [],
   "source": [
    "#### Escribir la función acá\n",
    "def cong_method1(x0:\"Semilla inicial\",a:\"Multiplicador\",b:\"Incremento\", m:\"Módulo\",\n",
    "                 n:\"Número de elementos\"):\n",
    "    '''Esta función contiene la programación del método congruencial para la sucesión x_n = (ax_{n−1} + b) mod m'''\n",
    "    x = [x0]\n",
    "    for i in range(1,n):\n",
    "        x.append((a * x[-1] + b) % m)\n",
    "    return np.array(x)/m"
   ]
  },
  {
   "cell_type": "markdown",
   "metadata": {},
   "source": [
    "**Ejemplo**\n",
    "\n",
    "Probar con los conjuntos de parámetros anteriores:\n",
    "1. $m=9$, $a=5$, $b=1$, $x_0=1$.\n",
    "2. $m=16$, $a=5$, $b=3$, $x_0=7$.\n",
    "\n",
    "Además,\n",
    "- Para el conjunto de parámetros 1, probar con las semillas $x_0=5,8$.\n",
    "- Para el conjunto de parámetros 2, probar con diferentes semillas."
   ]
  },
  {
   "cell_type": "code",
   "execution_count": 12,
   "metadata": {},
   "outputs": [
    {
     "data": {
      "text/plain": [
       "array([ 0.88888889,  0.55555556,  0.88888889,  0.55555556,  0.88888889,\n",
       "        0.55555556,  0.88888889,  0.55555556,  0.88888889,  0.55555556,\n",
       "        0.88888889,  0.55555556,  0.88888889,  0.55555556,  0.88888889])"
      ]
     },
     "execution_count": 12,
     "metadata": {},
     "output_type": "execute_result"
    }
   ],
   "source": [
    "#### Probar acá\n",
    "x = cong_method1(8, 5, 1, 9, 15)\n",
    "x"
   ]
  },
  {
   "cell_type": "code",
   "execution_count": 15,
   "metadata": {},
   "outputs": [
    {
     "data": {
      "text/plain": [
       "array([ 0.05882353,  0.47058824,  0.52941176,  0.82352941,  0.29411765,\n",
       "        0.64705882,  0.41176471,  0.23529412,  0.35294118,  0.94117647,\n",
       "        0.88235294,  0.58823529,  0.11764706,  0.76470588,  0.        ,\n",
       "        0.17647059,  0.05882353,  0.47058824,  0.52941176,  0.82352941])"
      ]
     },
     "execution_count": 15,
     "metadata": {},
     "output_type": "execute_result"
    }
   ],
   "source": [
    "x = cong_method1(1, 5, 3, 17, 20)\n",
    "x"
   ]
  },
  {
   "cell_type": "markdown",
   "metadata": {},
   "source": [
    "**Ejemplo**\n",
    "\n",
    "Los ciclos *for* o *while* son un atentado contra la computación eficiente. Programar de forma vectorizada usando la fórmila:\n",
    "$$x_n = \\left(a^n x_0+b\\frac{a^n-1}{a-1}\\right) \\mod m.$$"
   ]
  },
  {
   "cell_type": "code",
   "execution_count": 17,
   "metadata": {
    "collapsed": true
   },
   "outputs": [],
   "source": [
    "#### Escribir la función acá\n",
    "def cong_method2(x0, a, b, m, n):\n",
    "    N = np.arange(n) \n",
    "    return ((a**N * x0 + b * ((a**N-1)/(a-1))) % m)/m"
   ]
  },
  {
   "cell_type": "code",
   "execution_count": 18,
   "metadata": {},
   "outputs": [
    {
     "name": "stdout",
     "output_type": "stream",
     "text": [
      "[ 0.125     0.8125    0.25      0.4375    0.375     0.0625    0.5       0.6875\n",
      "  0.625     0.3125    0.75      0.9375    0.875     0.5625    0.953125\n",
      "  0.953125  0.953125  0.953125  0.953125  0.953125]\n"
     ]
    },
    {
     "name": "stderr",
     "output_type": "stream",
     "text": [
      "C:\\Users\\oscar\\Anaconda3\\lib\\site-packages\\ipykernel_launcher.py:4: RuntimeWarning: invalid value encountered in power\n",
      "  after removing the cwd from sys.path.\n"
     ]
    }
   ],
   "source": [
    "Me2 = cong_method2(2, 5, 3, 16, 20)\n",
    "print(Me2)"
   ]
  },
  {
   "cell_type": "code",
   "execution_count": 19,
   "metadata": {},
   "outputs": [
    {
     "name": "stdout",
     "output_type": "stream",
     "text": [
      "[ 0.125   0.8125  0.25    0.4375  0.375   0.0625  0.5     0.6875  0.625\n",
      "  0.3125  0.75    0.9375  0.875   0.5625  0.      0.1875  0.125   0.8125\n",
      "  0.25    0.4375]\n"
     ]
    }
   ],
   "source": [
    "Me1 = cong_method1(2, 5, 3, 16, 20)\n",
    "print(Me1)"
   ]
  },
  {
   "cell_type": "markdown",
   "metadata": {},
   "source": [
    "Entonces vemos que la calidad de nuestro generador congruencial depende fuertemente de la elección de los parámetros, pues quisiéramos que los periodos sean lo más grandes posible ($m$).\n",
    "\n",
    "Cuando el periodo de un generador congruencial coincide con el módulo $m$, lo llamaremos *generador de ciclo completo*. El periodo de este tipo de generadores es independiente de la semilla que utilicemos.\n",
    "\n",
    "El siguiente Teorema nos da condiciones para crear generadores de ciclo completo:"
   ]
  },
  {
   "cell_type": "markdown",
   "metadata": {},
   "source": [
    "**Teorema.** Un generador congruencial tiene periodo completo si y sólo si se cumplen las siguientes condiciones:\n",
    "1. $m$ y $b$ son primos entre sı́.\n",
    "2. Si $q$ es un número primo que divide a $m$, entonces $q$ divide a $a − 1$.\n",
    "3. Si $4$ divide a m, entonces 4 divide a $a − 1$."
   ]
  },
  {
   "cell_type": "markdown",
   "metadata": {},
   "source": [
    "**Ejercicio**\n",
    "\n",
    "Comprobar el teorema en el conjunto de parámetros 2."
   ]
  },
  {
   "cell_type": "markdown",
   "metadata": {},
   "source": [
    "### 1.3 Comentarios adicionales sobre el generador congruencial\n",
    "\n",
    "Hasta ahora solo nos basamos en aspectos teóricos para ver si un generador es bueno. También hay aspectos computacionales...\n",
    "\n",
    "En ese sentido los generadores multiplicativos son más eficientes que los mixtos porque se ahorran la operación de suma. Sin embargo, por el **Teorema** <font color=red>¿qué pasa con los generadores multiplicativos?</font>\n",
    "\n",
    "De igual forma, una elección computacionalmente adecuada es $m=2^k$ (se elige m grande para tener periodos grandes). Con esta elección, y $k\\geq2$, el generador tendrá periodo completo si y sólo si $b$ es impar y $1 = a \\mod 4$.\n",
    "\n",
    "Si se combina lo anterior (generador multiplicativo con $m=2^k$), obtenemos que el periodo máximo que se puede obtener es una cuarta parte de $m$, $\\frac{2^k}{4}=2^{k-2}$ y se alcanza únicamente para $x_0$ impar y, $3 = a \\mod 8$ o $5 = a \\mod 8$.\n",
    "\n",
    "Un generador multiplicativo muy utilizado, conocido como *RANDU*, tomaba $m = 2^{31}$ y $a = 2^{16} + 3$. Sin embargo, se ha demostrado que tiene propiedades estadı́sticas bastante malas.\n",
    "\n",
    "Los generadores multiplicativos más famosos utilizados por IBM tomaban $m = 2^{31} − 1$ y $a = 7^5$ o $a= 630360016$.\n",
    "\n",
    "Pueden encontrar más información en este [enlace](https://en.wikipedia.org/wiki/Linear_congruential_generator).\n",
    "\n",
    "- Se pueden hacer combinaciones de generadores y otros generadores más complicados..."
   ]
  },
  {
   "cell_type": "markdown",
   "metadata": {},
   "source": [
    "**Ejemplo**\n",
    "\n",
    "Tomar los parámetros $m=2^{31} − 1$, $a=1103515245$ y $b=12345$, y generar una secuencia pseudoaleatoria uniforme estándar de $n=10^4$ elementos.\n",
    "\n",
    "Luego, dibujar el histograma (diagrama de frecuencias). ¿Corresponde lo obtenido con lo que se imaginaban?"
   ]
  },
  {
   "cell_type": "code",
   "execution_count": 24,
   "metadata": {
    "collapsed": true
   },
   "outputs": [],
   "source": [
    "#### Resolver acá\n",
    "x = cong_method1(3, 1103515245, 12345, 2**31-1, 10**6)"
   ]
  },
  {
   "cell_type": "code",
   "execution_count": 21,
   "metadata": {
    "collapsed": true
   },
   "outputs": [],
   "source": [
    "import matplotlib.pyplot as plt\n",
    "%matplotlib inline"
   ]
  },
  {
   "cell_type": "code",
   "execution_count": 25,
   "metadata": {
    "scrolled": true
   },
   "outputs": [
    {
     "data": {
      "image/png": "[encoded data removed]",
      "text/plain": [
       "<matplotlib.figure.Figure at 0x1fc6496e198>"
      ]
     },
     "metadata": {},
     "output_type": "display_data"
    }
   ],
   "source": [
    "plt.hist(x,100,normed=True)\n",
    "plt.xlabel('valores aleatorios')\n",
    "plt.ylabel('frecuencia')\n",
    "plt.title('histograma')\n",
    "plt.show()"
   ]
  },
  {
   "cell_type": "markdown",
   "metadata": {},
   "source": [
    "**Ejemplo**\n",
    "\n",
    "¿Cómo hacer para obtener secuencias pseudoaleatorias en $\\mathcal{U}(a,b)$?\n",
    "\n",
    "Realizar un código para esto. Hacer una prueba con los parámetros anteriormente tomados y dibujar el histograma para contrastar."
   ]
  },
  {
   "cell_type": "code",
   "execution_count": 26,
   "metadata": {
    "collapsed": true
   },
   "outputs": [],
   "source": [
    "#### Resolver acá\n",
    "a, b = 7, 10\n",
    "xab = (b-a)*x+a"
   ]
  },
  {
   "cell_type": "code",
   "execution_count": 27,
   "metadata": {},
   "outputs": [
    {
     "data": {
      "image/png": "[encoded data removed]",
      "text/plain": [
       "<matplotlib.figure.Figure at 0x1fc64f5b668>"
      ]
     },
     "metadata": {},
     "output_type": "display_data"
    }
   ],
   "source": [
    "plt.hist(xab,100,normed=True)\n",
    "plt.xlabel('valores aleatorios')\n",
    "plt.ylabel('frecuencia')\n",
    "plt.title('histograma')\n",
    "plt.show()"
   ]
  },
  {
   "cell_type": "markdown",
   "metadata": {},
   "source": [
    "**Ejemplo**\n",
    "\n",
    "Escribir una función que devuelva secuencias de números aleatorios $\\mathcal{U}(0,1)$ usando los parámetros dados anteriormente y que use como semilla `time.time()`."
   ]
  },
  {
   "cell_type": "code",
   "execution_count": 60,
   "metadata": {},
   "outputs": [],
   "source": [
    "#### Resolver acá\n",
    "import time\n",
    "def randuni(n):\n",
    "    return cong_method1(round(time.time()*10**7), 1103515245, 12345, 2**31-1, n+1)[1:]"
   ]
  },
  {
   "cell_type": "code",
   "execution_count": 61,
   "metadata": {},
   "outputs": [
    {
     "data": {
      "text/plain": [
       "array([ 0.87353269,  0.85008247,  0.78714802,  0.25853131,  0.25422114,\n",
       "        0.7126724 ,  0.39986524,  0.76573747,  0.09518254,  0.42265805])"
      ]
     },
     "execution_count": 61,
     "metadata": {},
     "output_type": "execute_result"
    }
   ],
   "source": [
    "randuni(10)"
   ]
  },
  {
   "cell_type": "markdown",
   "metadata": {},
   "source": [
    "___\n",
    "## 2. Método Box–Muller para generación de números pseudoaleatorios $\\mathcal{N}(0,1)$\n",
    "\n",
    "Teniendo dos secuencias de números pseudoaleatorios independientes e uniformemente distribuidos en el intervalo $\\left[0,1\\right]$ ($\\mathcal{U}(0,1)$) es posible generar dos secuencias  de números pseudoaleatorios independientes y normalmente distribuidos con media cero y varianza unitaria ($\\mathcal{N}(0,1)$).\n",
    "\n",
    "Este método se conoce como el método Box–Muller."
   ]
  },
  {
   "cell_type": "markdown",
   "metadata": {},
   "source": [
    "Supongamos que $U_1$ y $U_2$ son variables aleatorias independientes que están uniformemente distribuidas en el intervalo $\\left[0,1\\right]$. Sean entonces:\n",
    "\n",
    "$$X=R\\cos(\\theta)=\\sqrt{-2\\ln(U_1)}\\cos(2\\pi U_2),$$\n",
    "\n",
    "y\n",
    "\n",
    "$$Y=R\\sin(\\theta)=\\sqrt{-2\\ln(U_1)}\\sin(2\\pi U_2).$$\n",
    "\n",
    "Entonces, $X$ y $Y$ son variables aleatorias independientes con una distribución normal estándar ($\\mathcal{N}(0,1)$)."
   ]
  },
  {
   "cell_type": "markdown",
   "metadata": {},
   "source": [
    "La derivación de esto se basa en la transformación del sistema cartesiano al sistema polar.\n",
    "\n",
    "<font color=blue> Mostrar intuitivamente en el tablero. </font>"
   ]
  },
  {
   "cell_type": "markdown",
   "metadata": {},
   "source": [
    "**Ejemplo**\n",
    "\n",
    "Escribir una función que devuelva secuencias de números aleatorios $\\mathcal{N}(0,1)$.\n",
    "\n",
    "*Usar la función escrita anteriormente*"
   ]
  },
  {
   "cell_type": "code",
   "execution_count": 71,
   "metadata": {
    "collapsed": true
   },
   "outputs": [],
   "source": [
    "#### Resolver acá\n",
    "def randnorm(n):\n",
    "    u1,u2 = randuni(n), randuni(n)\n",
    "    theta = 2*np.pi*u2\n",
    "    x = np.sqrt(-2*np.log(u1))*np.cos(theta)\n",
    "    y = np.sqrt(-2*np.log(u1))*np.sin(theta)\n",
    "    return x"
   ]
  },
  {
   "cell_type": "code",
   "execution_count": 72,
   "metadata": {},
   "outputs": [
    {
     "data": {
      "image/png": "[encoded data removed]",
      "text/plain": [
       "<matplotlib.figure.Figure at 0x1fc64b12da0>"
      ]
     },
     "metadata": {},
     "output_type": "display_data"
    }
   ],
   "source": [
    "x = randnorm(10**4)\n",
    "plt.hist(x,100,normed=True)\n",
    "plt.xlabel('valores aleatorios')\n",
    "plt.ylabel('frecuencia')\n",
    "plt.title('histograma')\n",
    "plt.show()"
   ]
  },
  {
   "cell_type": "markdown",
   "metadata": {},
   "source": [
    "**Ejemplo**\n",
    "\n",
    "Generar una secuencia pseudoaleatoria normal estándar de $n=10^4$ elementos.\n",
    "\n",
    "Luego, dibujar el histograma (diagrama de frecuencias). ¿Corresponde lo obtenido con lo que se imaginaban?"
   ]
  },
  {
   "cell_type": "code",
   "execution_count": null,
   "metadata": {
    "collapsed": true
   },
   "outputs": [],
   "source": [
    "#### Resolver acá\n",
    "\n"
   ]
  },
  {
   "cell_type": "code",
   "execution_count": 70,
   "metadata": {},
   "outputs": [
    {
     "ename": "NameError",
     "evalue": "name 'xn' is not defined",
     "output_type": "error",
     "traceback": [
      "\u001b[1;31m---------------------------------------------------------------------------\u001b[0m",
      "\u001b[1;31mNameError\u001b[0m                                 Traceback (most recent call last)",
      "\u001b[1;32m<ipython-input-70-7a791a0494e6>\u001b[0m in \u001b[0;36m<module>\u001b[1;34m()\u001b[0m\n\u001b[0;32m      1\u001b[0m \u001b[0mx\u001b[0m \u001b[1;33m=\u001b[0m \u001b[0mrandnorm\u001b[0m\u001b[1;33m(\u001b[0m\u001b[1;36m10\u001b[0m\u001b[1;33m**\u001b[0m\u001b[1;36m4\u001b[0m\u001b[1;33m)\u001b[0m\u001b[1;33m\u001b[0m\u001b[0m\n\u001b[1;32m----> 2\u001b[1;33m \u001b[0mplt\u001b[0m\u001b[1;33m.\u001b[0m\u001b[0mhist\u001b[0m\u001b[1;33m(\u001b[0m\u001b[0mxn\u001b[0m\u001b[1;33m,\u001b[0m\u001b[1;36m200\u001b[0m\u001b[1;33m,\u001b[0m\u001b[0mnormed\u001b[0m\u001b[1;33m=\u001b[0m\u001b[1;32mTrue\u001b[0m\u001b[1;33m)\u001b[0m\u001b[1;33m\u001b[0m\u001b[0m\n\u001b[0m\u001b[0;32m      3\u001b[0m \u001b[0mplt\u001b[0m\u001b[1;33m.\u001b[0m\u001b[0mxlabel\u001b[0m\u001b[1;33m(\u001b[0m\u001b[1;34m'valores aleatorios'\u001b[0m\u001b[1;33m)\u001b[0m\u001b[1;33m\u001b[0m\u001b[0m\n\u001b[0;32m      4\u001b[0m \u001b[0mplt\u001b[0m\u001b[1;33m.\u001b[0m\u001b[0mylabel\u001b[0m\u001b[1;33m(\u001b[0m\u001b[1;34m'frecuencia'\u001b[0m\u001b[1;33m)\u001b[0m\u001b[1;33m\u001b[0m\u001b[0m\n\u001b[0;32m      5\u001b[0m \u001b[0mplt\u001b[0m\u001b[1;33m.\u001b[0m\u001b[0mtitle\u001b[0m\u001b[1;33m(\u001b[0m\u001b[1;34m'histograma'\u001b[0m\u001b[1;33m)\u001b[0m\u001b[1;33m\u001b[0m\u001b[0m\n",
      "\u001b[1;31mNameError\u001b[0m: name 'xn' is not defined"
     ]
    }
   ],
   "source": [
    "x = randnorm(10**4)\n",
    "plt.hist(xn,200,normed=True)\n",
    "plt.xlabel('valores aleatorios')\n",
    "plt.ylabel('frecuencia')\n",
    "plt.title('histograma')\n",
    "plt.show()"
   ]
  },
  {
   "cell_type": "markdown",
   "metadata": {},
   "source": [
    "**Ejemplo**\n",
    "\n",
    "¿Cómo hacer para obtener secuencias pseudoaleatorias en $\\mathcal{N}(\\mu,\\sigma)$?\n",
    "\n",
    "Realizar un código para esto. Hacer una prueba y dibujar el histograma para contrastar."
   ]
  },
  {
   "cell_type": "code",
   "execution_count": 74,
   "metadata": {},
   "outputs": [],
   "source": [
    "#### Resolver acá\n",
    "mu = 5\n",
    "sigma =3\n",
    "X = sigma*x+mu"
   ]
  },
  {
   "cell_type": "code",
   "execution_count": 75,
   "metadata": {},
   "outputs": [
    {
     "data": {
      "image/png": "[encoded data removed]",
      "text/plain": [
       "<matplotlib.figure.Figure at 0x1fc64fa4e48>"
      ]
     },
     "metadata": {},
     "output_type": "display_data"
    }
   ],
   "source": [
    "plt.hist(X,200,normed=True)\n",
    "plt.xlabel('valores aleatorios')\n",
    "plt.ylabel('frecuencia')\n",
    "plt.title('histograma')\n",
    "plt.show()"
   ]
  },
  {
   "cell_type": "code",
   "execution_count": null,
   "metadata": {
    "collapsed": true
   },
   "outputs": [],
   "source": []
  },
  {
   "cell_type": "markdown",
   "metadata": {},
   "source": [
    "Finalmente, mostrar que funciones de este tipo ya están en `numpy`. Ya sabemos como se obtienen."
   ]
  },
  {
   "cell_type": "code",
   "execution_count": 76,
   "metadata": {},
   "outputs": [
    {
     "data": {
      "image/png": "[encoded data removed]",
      "text/plain": [
       "<matplotlib.figure.Figure at 0x1fc649b1cf8>"
      ]
     },
     "metadata": {},
     "output_type": "display_data"
    }
   ],
   "source": [
    "x=np.random.uniform(10,20,10**6)\n",
    "plt.hist(x,100,normed=True)\n",
    "plt.xlabel('valores aleatorios')\n",
    "plt.ylabel('frecuencia')\n",
    "plt.title('histograma')\n",
    "plt.show()"
   ]
  },
  {
   "cell_type": "code",
   "execution_count": 87,
   "metadata": {},
   "outputs": [
    {
     "name": "stdout",
     "output_type": "stream",
     "text": [
      "Help on built-in function normal:\n",
      "\n",
      "normal(...) method of mtrand.RandomState instance\n",
      "    normal(loc=0.0, scale=1.0, size=None)\n",
      "    \n",
      "    Draw random samples from a normal (Gaussian) distribution.\n",
      "    \n",
      "    The probability density function of the normal distribution, first\n",
      "    derived by De Moivre and 200 years later by both Gauss and Laplace\n",
      "    independently [2]_, is often called the bell curve because of\n",
      "    its characteristic shape (see the example below).\n",
      "    \n",
      "    The normal distributions occurs often in nature.  For example, it\n",
      "    describes the commonly occurring distribution of samples influenced\n",
      "    by a large number of tiny, random disturbances, each with its own\n",
      "    unique distribution [2]_.\n",
      "    \n",
      "    Parameters\n",
      "    ----------\n",
      "    loc : float\n",
      "        Mean (\"centre\") of the distribution.\n",
      "    scale : float\n",
      "        Standard deviation (spread or \"width\") of the distribution.\n",
      "    size : int or tuple of ints, optional\n",
      "        Output shape.  If the given shape is, e.g., ``(m, n, k)``, then\n",
      "        ``m * n * k`` samples are drawn.  Default is None, in which case a\n",
      "        single value is returned.\n",
      "    \n",
      "    See Also\n",
      "    --------\n",
      "    scipy.stats.distributions.norm : probability density function,\n",
      "        distribution or cumulative density function, etc.\n",
      "    \n",
      "    Notes\n",
      "    -----\n",
      "    The probability density for the Gaussian distribution is\n",
      "    \n",
      "    .. math:: p(x) = \\frac{1}{\\sqrt{ 2 \\pi \\sigma^2 }}\n",
      "                     e^{ - \\frac{ (x - \\mu)^2 } {2 \\sigma^2} },\n",
      "    \n",
      "    where :math:`\\mu` is the mean and :math:`\\sigma` the standard\n",
      "    deviation. The square of the standard deviation, :math:`\\sigma^2`,\n",
      "    is called the variance.\n",
      "    \n",
      "    The function has its peak at the mean, and its \"spread\" increases with\n",
      "    the standard deviation (the function reaches 0.607 times its maximum at\n",
      "    :math:`x + \\sigma` and :math:`x - \\sigma` [2]_).  This implies that\n",
      "    `numpy.random.normal` is more likely to return samples lying close to\n",
      "    the mean, rather than those far away.\n",
      "    \n",
      "    References\n",
      "    ----------\n",
      "    .. [1] Wikipedia, \"Normal distribution\",\n",
      "           http://en.wikipedia.org/wiki/Normal_distribution\n",
      "    .. [2] P. R. Peebles Jr., \"Central Limit Theorem\" in \"Probability,\n",
      "           Random Variables and Random Signal Principles\", 4th ed., 2001,\n",
      "           pp. 51, 51, 125.\n",
      "    \n",
      "    Examples\n",
      "    --------\n",
      "    Draw samples from the distribution:\n",
      "    \n",
      "    >>> mu, sigma = 0, 0.1 # mean and standard deviation\n",
      "    >>> s = np.random.normal(mu, sigma, 1000)\n",
      "    \n",
      "    Verify the mean and the variance:\n",
      "    \n",
      "    >>> abs(mu - np.mean(s)) < 0.01\n",
      "    True\n",
      "    \n",
      "    >>> abs(sigma - np.std(s, ddof=1)) < 0.01\n",
      "    True\n",
      "    \n",
      "    Display the histogram of the samples, along with\n",
      "    the probability density function:\n",
      "    \n",
      "    >>> import matplotlib.pyplot as plt\n",
      "    >>> count, bins, ignored = plt.hist(s, 30, normed=True)\n",
      "    >>> plt.plot(bins, 1/(sigma * np.sqrt(2 * np.pi)) *\n",
      "    ...                np.exp( - (bins - mu)**2 / (2 * sigma**2) ),\n",
      "    ...          linewidth=2, color='r')\n",
      "    >>> plt.show()\n",
      "\n"
     ]
    }
   ],
   "source": [
    "help(np.random.normal)"
   ]
  },
  {
   "cell_type": "code",
   "execution_count": 77,
   "metadata": {},
   "outputs": [
    {
     "data": {
      "image/png": "[encoded data removed]",
      "text/plain": [
       "<matplotlib.figure.Figure at 0x1fc64d81518>"
      ]
     },
     "metadata": {},
     "output_type": "display_data"
    }
   ],
   "source": [
    "x = np.random.normal(5,3,10**6)\n",
    "plt.hist(x,100,normed=True)\n",
    "plt.xlabel('valores aleatorios')\n",
    "plt.ylabel('frecuencia')\n",
    "plt.title('histograma')\n",
    "plt.show()"
   ]
  },
  {
   "cell_type": "markdown",
   "metadata": {},
   "source": [
    "> # <font color=red> **En moodle se subirán las indicaciones para la tarea** </font>"
   ]
  },
  {
   "cell_type": "markdown",
   "metadata": {},
   "source": [
    "<script>\n",
    "  $(document).ready(function(){\n",
    "    $('div.prompt').hide();\n",
    "    $('div.back-to-top').hide();\n",
    "    $('nav#menubar').hide();\n",
    "    $('.breadcrumb').hide();\n",
    "    $('.hidden-print').hide();\n",
    "  });\n",
    "</script>\n",
    "\n",
    "<footer id=\"attribution\" style=\"float:right; color:#808080; background:#fff;\">\n",
    "Created with Jupyter by Esteban Jiménez Rodríguez and edited by Oscar David Jaramillo Z.\n",
    "</footer>"
   ]
  }
 ],
 "metadata": {
  "kernelspec": {
   "display_name": "Python 3",
   "language": "python",
   "name": "python3"
  },
  "language_info": {
   "codemirror_mode": {
    "name": "ipython",
    "version": 3
   },
   "file_extension": ".py",
   "mimetype": "text/x-python",
   "name": "python",
   "nbconvert_exporter": "python",
   "pygments_lexer": "ipython3",
   "version": "3.6.2"
  }
 },
 "nbformat": 4,
 "nbformat_minor": 2
}
