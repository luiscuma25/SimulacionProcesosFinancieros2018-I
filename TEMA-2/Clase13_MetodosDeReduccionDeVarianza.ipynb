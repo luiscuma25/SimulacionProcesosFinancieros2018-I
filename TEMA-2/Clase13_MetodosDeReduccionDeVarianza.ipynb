{
 "cells": [
  {
   "cell_type": "markdown",
   "metadata": {},
   "source": [
    "<img style=\"float: right; margin: 0px 0px 15px 15px;\"\n",
    "src=\"MontecarloImag.jpeg\" width=\"300px\" height=\"100px\" />\n",
    "# Técnicas de reducción de varianza\n",
    "\n",
    "**Objetivos:**\n",
    "1. Estudiar el método de integración montecarlos para aproximación de integrales.\n",
    "2. Estudiar dos técnicas para reducción de varianza\n",
    "   - Muestreo estratificado\n",
    "   - Método de números aleatorios complementarios\n"
   ]
  },
  {
   "cell_type": "markdown",
   "metadata": {},
   "source": [
    "## 1. Integración numérica Montecarlo\n",
    "\n",
    "En esta clase veremos una técnica alternativa de integración numérica (métodos numéricos): Integración Montecarlo\n",
    "\n",
    "### Introducción\n",
    "\n",
    "En matempaticas financieras un problema frecuente es el valuar instrumentos financieros cuyos rendimientos son aleatorios. Por ejemplo los instrumentos de renta variable, las inversiones en la bolsa o los derivados, cuyos rendimientos dependen del comportamiento de una acción o de un bien como el oro o el petróleo. La valuación de estos instrumentos se reduce, al cálculo de una esperanza de una función continua de una variable aleatoria.\n",
    "\n",
    "Recordando algunos conceptos de probabilidad. Sea **$x$ una variable aleatoria continua**, si su función de densidad de probabilidad es $f(x)$, en un intervalo $[\\alpha,\\beta]$, entonces\n",
    "\n",
    "$$ P(X\\leq c) = \\int_\\alpha^c f(x) dx$$\n",
    "\n",
    "$$ \\textbf{Esperanza}\\rightarrow E(g(x))=\\int_\\alpha^\\beta g(x)f(x) dx $$\n",
    "$$ \\textbf{Varianza}\\rightarrow Var(g(x))=E(g(x)^2)-E(g(x))^2=\\int_\\alpha^\\beta g(x)^2f(x) dx -E(x)^2$$\n",
    "\n",
    "Con frecuencia no es posible aplicar un método de integración para calcular en forma exacta la integral. En ese caso hay que aproximar la integral por medio de un método de integración numérico o por monte carlo. "
   ]
  },
  {
   "cell_type": "markdown",
   "metadata": {},
   "source": [
    "## Método monte carlo\n",
    "\n",
    "Se sabe por la Ley de los Grandes Números que un buen estimador del valor esperado de una variable aleatoria continua $X$ con distribución $F$ es el valor promedio de una muestra finita de variables aleatorias, independientes con distribución $F$: Es decir\n",
    "$$ E(X)\\approx \\frac{1}{M}\\sum_{i=1}^M X_i$$\n",
    "\n",
    "Como la esperanza de una variable aleatoria continua es una integral, la media muestral se puede usar para estimar el valor de una integral. Esta es la idea que está detrás del método de Monte-Carlo.\n",
    "\n",
    "Esta idea se puede generalizar para estimar el valor esperado de una función $G$ continua cuyo argumento es una variable aleatoria con distribución $F$: Si se tiene una muestra de variables aleatorias, independientes, idénticamente distribuidas con distribución $F$; entonces\n",
    "\n",
    "$$ E(G(X))\\approx \\frac{1}{M}\\sum_{i=1}^M G(X_i)$$"
   ]
  },
  {
   "cell_type": "markdown",
   "metadata": {},
   "source": [
    "### Aplicación al cálculo de integrales\n",
    "\n",
    "En el caso de interés, se desea estimar la integral de una función $G$ continua, esta integral puede verse como el cálculo del valor esperado de la función $G$ cuando se aplica a una variable aleatoria con distribución uniforme. Supongamos que el intervalo de integración es $[0, 1]$ y sea $x_1, x_2, \\cdots, x_M$ una muestra de variables aleatorias, independientes\n",
    "con distribución uniforme en el intervalo $[0, 1]$ entonces:\n",
    "\n",
    "$$ \\int_0^1G(x)dx = E(G(x)) \\approx \\frac{1}{M}\\sum_{i=1}^M G(X_i)$$\n",
    "\n",
    "** Todo el problema se reduce a generar la muestra**.\n",
    "\n",
    "Por otro lado observe que toda integral en el intervalo $[a,b]$ se puede transformar a una integral sobre el intervalo $[0,1]$, con el siguiente cambio de variable $u = \\frac{x-a}{b-a} \\rightarrow x = a+(b-a)u$ con $dx=(b-a)du$, entonces\n",
    "\n",
    "$\\int_a^b G(x)dx= (b-a)\\int\\limits_0^1 G(a+(b-a)u)du\\approx \\frac{(b-a)}{M}\\sum\\limits_{i=1}^M G(\\underbrace{a+(b-a)u_i}_{variable \\ U\\sim[a,b]})$\n",
    "\n",
    "con $u_i$ variables aleatorias uniformes en el intervalo $[0,1]$"
   ]
  },
  {
   "cell_type": "markdown",
   "metadata": {},
   "source": [
    "Escribamos una función que tenga como entradas:\n",
    "- la función a integrar $f$,\n",
    "- los límites de integración $a$ y $b$, y\n",
    "- los números aleatorios distribuidos uniformemente entre $[a,b]$,\n",
    "\n",
    "y que devuelva la aproximación montecarlo de la integral $\\int_{a}^{b}f(x)\\text{d}x$."
   ]
  },
  {
   "cell_type": "code",
   "execution_count": 1,
   "metadata": {
    "collapsed": true
   },
   "outputs": [],
   "source": [
    "import numpy as np\n",
    "from functools import reduce\n",
    "import time\n",
    "import matplotlib.pyplot as plt\n",
    "import scipy.stats as st     # Librería estadística\n",
    "import pandas as pd"
   ]
  },
  {
   "cell_type": "code",
   "execution_count": 3,
   "metadata": {
    "collapsed": true
   },
   "outputs": [],
   "source": [
    "# Integración montecarlo\n",
    "def int_montecarlo(f, a, b, U):\n",
    "    return (b-a)/len(U)*np.sum(f(U))"
   ]
  },
  {
   "cell_type": "markdown",
   "metadata": {},
   "source": [
    "### Ejemplo \n",
    "\n",
    "Aproxime el valor de la siguiente integral usando el método monte carlo\n",
    "\n",
    "$$I=\\int_{0}^{1}x^2\\text{d}x=\\left.\\frac{x^3}{3}\\right|_{x=0}^{x=1}=\\frac{1}{3}\\approx 0.33333$$"
   ]
  },
  {
   "cell_type": "code",
   "execution_count": 8,
   "metadata": {
    "scrolled": true
   },
   "outputs": [
    {
     "data": {
      "text/html": [
       "<div>\n",
       "<style>\n",
       "    .dataframe thead tr:only-child th {\n",
       "        text-align: right;\n",
       "    }\n",
       "\n",
       "    .dataframe thead th {\n",
       "        text-align: left;\n",
       "    }\n",
       "\n",
       "    .dataframe tbody tr th {\n",
       "        vertical-align: top;\n",
       "    }\n",
       "</style>\n",
       "<table border=\"1\" class=\"dataframe\">\n",
       "  <thead>\n",
       "    <tr style=\"text-align: right;\">\n",
       "      <th></th>\n",
       "      <th>Valor_aproximacion</th>\n",
       "      <th>Error_relativo%</th>\n",
       "    </tr>\n",
       "    <tr>\n",
       "      <th>Cantidad_terminos</th>\n",
       "      <th></th>\n",
       "      <th></th>\n",
       "    </tr>\n",
       "  </thead>\n",
       "  <tbody>\n",
       "    <tr>\n",
       "      <th>10</th>\n",
       "      <td>0.184707</td>\n",
       "      <td>44.587911</td>\n",
       "    </tr>\n",
       "    <tr>\n",
       "      <th>100</th>\n",
       "      <td>0.382359</td>\n",
       "      <td>14.707592</td>\n",
       "    </tr>\n",
       "    <tr>\n",
       "      <th>1000</th>\n",
       "      <td>0.327014</td>\n",
       "      <td>1.895805</td>\n",
       "    </tr>\n",
       "    <tr>\n",
       "      <th>10000</th>\n",
       "      <td>0.332879</td>\n",
       "      <td>0.136307</td>\n",
       "    </tr>\n",
       "    <tr>\n",
       "      <th>100000</th>\n",
       "      <td>0.334754</td>\n",
       "      <td>0.426254</td>\n",
       "    </tr>\n",
       "    <tr>\n",
       "      <th>1000000</th>\n",
       "      <td>0.333574</td>\n",
       "      <td>0.072342</td>\n",
       "    </tr>\n",
       "    <tr>\n",
       "      <th>10000000</th>\n",
       "      <td>0.333247</td>\n",
       "      <td>0.025920</td>\n",
       "    </tr>\n",
       "  </tbody>\n",
       "</table>\n",
       "</div>"
      ],
      "text/plain": [
       "                   Valor_aproximacion  Error_relativo%\n",
       "Cantidad_terminos                                     \n",
       "10                           0.184707        44.587911\n",
       "100                          0.382359        14.707592\n",
       "1000                         0.327014         1.895805\n",
       "10000                        0.332879         0.136307\n",
       "100000                       0.334754         0.426254\n",
       "1000000                      0.333574         0.072342\n",
       "10000000                     0.333247         0.025920"
      ]
     },
     "execution_count": 8,
     "metadata": {},
     "output_type": "execute_result"
    }
   ],
   "source": [
    "I = 1/3\n",
    "# intervalo de integración\n",
    "a = 0; b = 1\n",
    "\n",
    "# Cantidad de términos\n",
    "N = np.logspace(1,7,7,dtype=int)\n",
    "\n",
    "# Definimos la tabla donde se mostrarán los resultados\n",
    "df = pd.DataFrame(index=N,columns=['Valor_aproximacion', 'Error_relativo%'], dtype='float')\n",
    "df.index.name = \"Cantidad_terminos\"\n",
    "\n",
    "# Números aleatorios dependiente de la cantidad de términos N\n",
    "ui = list(map(lambda N:np.random.uniform(a,b,N),N))\n",
    "\n",
    "# Calculamos la aproximación por montecarlo dependiendo de la cantidad de\n",
    "# términos que hayamos creado con ui\n",
    "I_m = list(map(lambda Y:int_montecarlo(lambda x:x**2,a,b,Y),ui))\n",
    "\n",
    "# Mostramos los resultados en la tabla previamente creada\n",
    "df.loc[N,\"Valor_aproximacion\"] = I_m\n",
    "df.loc[N,\"Error_relativo%\"] = np.abs(df.loc[N,\"Valor_aproximacion\"]-I)*100/I\n",
    "df"
   ]
  },
  {
   "cell_type": "markdown",
   "metadata": {},
   "source": [
    "### Nota:\n",
    "Sean $I=E(g(x))$ y el estimado de $I$ es $\\tilde I_M = \\frac{1}{M}\\sum\\limits_{i=1}^M g(X_i)$. Tome $\\sigma$ como la desviación estándar de $g(X)$ y $\\tilde \\sigma$ como la desviación estándar muestral. Por lo tanto, se tiene entonces que:\n",
    "\n",
    "$$ Var(\\tilde I_M)=\\frac{\\sigma^2}{M} \\longrightarrow std(\\tilde I_M)=\\frac{\\sigma}{\\sqrt{M}}$$\n",
    "\n",
    "Típicamente no se tiene conocimiento de $\\sigma$ por lo tanto se puede estimar por medio de la varianza muestral.\n",
    "$$\\tilde \\sigma^2=\\frac{1}{M-1}\\sum\\limits_{i=1}^{M}(g(X_i)-\\tilde I_M)^2$$\n",
    "\n",
    "### Conclusión \n",
    "\n",
    "Si se desea disminuir el error de estimación de la integral (desviación estándar), hay dos caminos:\n",
    "   1. Aumentar la cantidad de muestras a evaluar en la función, **(Proceso lento)**, o\n",
    "   2. Utilizar técnicas para disminuir la varianza."
   ]
  },
  {
   "cell_type": "markdown",
   "metadata": {},
   "source": [
    "# 2. Reducción de varianza\n",
    "\n",
    "## a. Muestreo estratificado\n",
    "\n",
    "La idea radica en la observación de que la población puede ser **heterogénea** y consta de varios subgrupos homogéneos (como género, raza, estado económico social). Si deseamos aprender sobre toda la población (como por ejemplo, si a la gente en México le gustaría votar para las elecciones en 2018), podemos tomar una muestra aleatoria de toda la población para estimar esa cantidad. Por otro lado, sería más eficiente tomar muestras pequeñas de cada subgrupo y combinar las estimaciones en cada subgrupo según la fracción de la población representada por el subgrupo. Dado que podemos conocer la opinión de un subgrupo homogéneo con un tamaño de muestra relativamente pequeño, este procedimiento de muestreo estratificado sería más eficiente.\n",
    "\n",
    "Si nosotros deseamos estimar $E(X)$, donde $X$ depende de una variable aleatoria $S$ que toma uno de los valores en $\\{1, ...,k\\}$ con probabilidades conocidas, entonces la técnica de estratificación se ejecuta en k grupos, con el i-ésimo grupo que tiene $S = i$, tomando $\\bar X_i$ es el valor promedio de $X$ cuando se estuvo en el grupo $S = i$, y luego se estima $E(x)$ por:\n",
    "$$E(x)=\\sum\\limits_{i=1}^{k}\\underbrace{E(X|S=i)}_{\\text{media muestral del i-ésimo grupo}}P(S=i)=\\sum\\limits_{i=1}^{k} \\bar X_i P(S=i)$$\n",
    "\n",
    "Para ilustrar considere que queremos estimar $E(g(U))=\\int_0^1g(x)dx$. Para esto vamos a considerar dos estimadores basados en una muestra de 2n corridas.\n",
    "\n",
    "1.**Método estándar (visto anteriormente)**\n",
    "$$\\textbf{media}\\rightarrow \\hat g=\\frac{1}{2n}\\sum\\limits_{i=1}^{2n} g(U_i)$$\n",
    "\n",
    "$$\\textbf{varianza}\\rightarrow Var(\\hat g)=\\frac{1}{4n^2}\\sum\\limits_{i=1}^{2n} Var(g(U_i))=\\frac{1}{2n}\\bigg[\\int_0^1g^2(x)dx-\\bigg(\\int_0^1g(x)dx\\bigg)^2\\bigg]$$\n",
    "Por otro lado nosotros podemos escribir\n",
    "\n",
    "$$E(g(U))=\\int_0^{1/2}g(x)dx + \\int_{1/2}^1g(x)dx$$\n",
    "\n",
    "   - Seleccionamos $n$ U's de $[0,1/2]$\n",
    "   - Seleccionamos $n$ U's de $[1/2,1]$\n",
    "   \n",
    "2.Con esta nueva selección construimos el **estimador estratificado**:\n",
    "\n",
    "$$\\textbf{media}\\rightarrow \\hat g_s=\\frac{1}{2n}\\big[\\sum\\limits_{i=1}^{n} g(\\underbrace{U_i/2}_{U\\sim [0,1/2]}) + \\sum\\limits_{i=n+1}^{2n} g\\big((\\underbrace{U_i+1)/2}_{U\\sim [1/2,1]}\\big)\\big]$$\n",
    "\n",
    "$$\\textbf{varianza}\\rightarrow Var(\\hat g_s)=\\frac{1}{4n^2}\\big[\\sum\\limits_{i=1}^{n} Var(g(U_i/2)) + \\sum\\limits_{i=n+1}^{2n} Var(g\\big((U_i+1)/2\\big))\\big]$$\n",
    "\n",
    "Realizando el cálculo directo tomando $U_i\\sim U(0,1)$, se puede mostrar que:\n",
    "\n",
    "$$Var(g(U_i/2)) = 2 \\int_0^{1/2} g^2(x)dx - 4m_1^2,$$\n",
    "$$Var(g((U_i+1)/2)) = 2 \\int_{1/2}^1 g^2(x)dx - 4m_2^2,$$\n",
    "\n",
    "donde $m_1 = \\int_0^{1/2}g(x)dx$ y $m_2 = \\int_{1/2}^1g(x)dx$\n",
    "\n",
    "Realizando varias manipulaciones algebraicas se llega a que \n",
    "\n",
    "> $$Var(\\hat g_s) = Var(\\hat g)-\\frac{1}{2n}(m_1-m_2)^2$$\n",
    "\n",
    "<font color ='red'> La varianza se disminuye con respecto a $Var(\\hat g)$\n",
    "\n",
    "> **Referencia**: Handbook in Monte Carlo simulation applications in financial engineering, risk management, and economics, pág. 97."
   ]
  },
  {
   "cell_type": "markdown",
   "metadata": {},
   "source": [
    "### Ejemplo\n",
    "Como ilustración de la estratificación, considere la simulación de números aleatorios normales estándar mediante el método estándar y el método de estratificación, respectivamente."
   ]
  },
  {
   "cell_type": "code",
   "execution_count": 18,
   "metadata": {},
   "outputs": [
    {
     "name": "stdout",
     "output_type": "stream",
     "text": [
      "media 1= 0.0\n",
      "media 2= 0.0\n",
      "varianza 1= 0.0\n",
      "varianza 2= 0.0\n",
      "creada: 1.10073002784 numpy: 1.10073002784\n"
     ]
    }
   ],
   "source": [
    "np.random.seed(5555)\n",
    "# Muestras\n",
    "N = 500\n",
    "muestras = np.random.normal(np.random.rand(N))\n",
    "\n",
    "# Cálculo de media\n",
    "t1 = time.time()\n",
    "g_hat = (sum(muestras))/len(muestras)\n",
    "t2 = time.time()\n",
    "print('media 1=',t2-t1)\n",
    "\n",
    "t1 = time.time()\n",
    "g_hat2 = np.mean(muestras)\n",
    "t2 = time.time()\n",
    "print('media 2=',t2-t1)\n",
    "\n",
    "# cálculo de la varianza\n",
    "t1 = time.time()\n",
    "# varg_hat = sum(list(map(lambda l:l**2,muestras-g_hat)))/len(muestras)\n",
    "varg_hat = np.mean(list(map(lambda l:l**2,muestras-g_hat)))\n",
    "t2 = time.time()\n",
    "print('varianza 1=',t2-t1)\n",
    "\n",
    "t1 = time.time()\n",
    "var_numpy = np.var(muestras)\n",
    "t2 = time.time()\n",
    "print('varianza 2=',t2-t1)\n",
    "\n",
    "print('creada:',varg_hat,'numpy:',var_numpy)\n"
   ]
  },
  {
   "cell_type": "code",
   "execution_count": 10,
   "metadata": {},
   "outputs": [
    {
     "data": {
      "image/png": "[encoded data removed]",
      "text/plain": [
       "<matplotlib.figure.Figure at 0x255bab6a048>"
      ]
     },
     "metadata": {},
     "output_type": "display_data"
    },
    {
     "data": {
      "image/png": "[encoded data removed]",
      "text/plain": [
       "<matplotlib.figure.Figure at 0x255bc7e0dd8>"
      ]
     },
     "metadata": {},
     "output_type": "display_data"
    }
   ],
   "source": [
    "N = 500\n",
    "# (Método transformada inversa visto en clases pasadas)\n",
    "# Método montecarlo estándar \n",
    "montecarlo_standar = st.norm.ppf(np.random.rand(N))\n",
    "plt.hist(montecarlo_standar,50,normed=True)\n",
    "plt.title('Montecarlo estándar')\n",
    "plt.xlim((-3.5,3.5))\n",
    "plt.show()\n",
    "\n",
    "# Método muestreo estratificado (B estratos)\n",
    "B = 100\n",
    "U2 = np.random.rand(B)\n",
    "i = np.arange(0,B)\n",
    "v = (U2+i)/B\n",
    "m_estratificado = st.norm.ppf(v)\n",
    "\n",
    "plt.hist(m_estratificado,50,normed=True)\n",
    "plt.title('Muestreo estratificado')\n",
    "plt.xlim((-3.5,3.5))\n",
    "plt.show()"
   ]
  },
  {
   "cell_type": "markdown",
   "metadata": {
    "collapsed": true
   },
   "source": [
    "### Ejemplo\n",
    "Estimar la media de la siguiente función de distribución de  exponencial:\n",
    "$$\\textbf{Densidad}\\rightarrow f(x)=e^{-x}\\rightarrow \\text{media = 1}$$\n",
    "$$\\textbf{Acumulada}\\rightarrow F(x)=1-e^{-x}$$\n",
    "\n",
    "Usando el método de la transformada inversa que realizamos en clases pasadas, obtuvimos que para generar números aleatorios de esta distribución tenía que aplicarse $x_i=-ln(u_i)$ con $u_i \\sim U[0,1]$.\n",
    "\n",
    "Suponga entonces que generamos 10 muestras y con eso intentamos estimar la media de esta función de distribución, como se muestra a continuación:"
   ]
  },
  {
   "cell_type": "code",
   "execution_count": 87,
   "metadata": {
    "scrolled": false
   },
   "outputs": [
    {
     "data": {
      "text/html": [
       "<div>\n",
       "<style>\n",
       "    .dataframe thead tr:only-child th {\n",
       "        text-align: right;\n",
       "    }\n",
       "\n",
       "    .dataframe thead th {\n",
       "        text-align: left;\n",
       "    }\n",
       "\n",
       "    .dataframe tbody tr th {\n",
       "        vertical-align: top;\n",
       "    }\n",
       "</style>\n",
       "<table border=\"1\" class=\"dataframe\">\n",
       "  <thead>\n",
       "    <tr style=\"text-align: right;\">\n",
       "      <th></th>\n",
       "      <th>Numero_Aleatorio</th>\n",
       "      <th>Observacion_generada</th>\n",
       "      <th>Media_muestral</th>\n",
       "    </tr>\n",
       "    <tr>\n",
       "      <th>Cantidad_terminos</th>\n",
       "      <th></th>\n",
       "      <th></th>\n",
       "      <th></th>\n",
       "    </tr>\n",
       "  </thead>\n",
       "  <tbody>\n",
       "    <tr>\n",
       "      <th>1</th>\n",
       "      <td>0.129104</td>\n",
       "      <td>2.047133</td>\n",
       "      <td>NaN</td>\n",
       "    </tr>\n",
       "    <tr>\n",
       "      <th>2</th>\n",
       "      <td>0.872152</td>\n",
       "      <td>0.136791</td>\n",
       "      <td>NaN</td>\n",
       "    </tr>\n",
       "    <tr>\n",
       "      <th>3</th>\n",
       "      <td>0.795504</td>\n",
       "      <td>0.228780</td>\n",
       "      <td>NaN</td>\n",
       "    </tr>\n",
       "    <tr>\n",
       "      <th>4</th>\n",
       "      <td>0.878771</td>\n",
       "      <td>0.129231</td>\n",
       "      <td>NaN</td>\n",
       "    </tr>\n",
       "    <tr>\n",
       "      <th>5</th>\n",
       "      <td>0.449543</td>\n",
       "      <td>0.799523</td>\n",
       "      <td>NaN</td>\n",
       "    </tr>\n",
       "    <tr>\n",
       "      <th>6</th>\n",
       "      <td>0.575340</td>\n",
       "      <td>0.552795</td>\n",
       "      <td>NaN</td>\n",
       "    </tr>\n",
       "    <tr>\n",
       "      <th>7</th>\n",
       "      <td>0.829415</td>\n",
       "      <td>0.187034</td>\n",
       "      <td>NaN</td>\n",
       "    </tr>\n",
       "    <tr>\n",
       "      <th>8</th>\n",
       "      <td>0.873115</td>\n",
       "      <td>0.135688</td>\n",
       "      <td>NaN</td>\n",
       "    </tr>\n",
       "    <tr>\n",
       "      <th>9</th>\n",
       "      <td>0.140971</td>\n",
       "      <td>1.959203</td>\n",
       "      <td>NaN</td>\n",
       "    </tr>\n",
       "    <tr>\n",
       "      <th>10</th>\n",
       "      <td>0.899507</td>\n",
       "      <td>0.105908</td>\n",
       "      <td>Media muestral = 0.628209</td>\n",
       "    </tr>\n",
       "  </tbody>\n",
       "</table>\n",
       "</div>"
      ],
      "text/plain": [
       "                   Numero_Aleatorio  Observacion_generada  \\\n",
       "Cantidad_terminos                                           \n",
       "1                          0.129104              2.047133   \n",
       "2                          0.872152              0.136791   \n",
       "3                          0.795504              0.228780   \n",
       "4                          0.878771              0.129231   \n",
       "5                          0.449543              0.799523   \n",
       "6                          0.575340              0.552795   \n",
       "7                          0.829415              0.187034   \n",
       "8                          0.873115              0.135688   \n",
       "9                          0.140971              1.959203   \n",
       "10                         0.899507              0.105908   \n",
       "\n",
       "                              Media_muestral  \n",
       "Cantidad_terminos                             \n",
       "1                                        NaN  \n",
       "2                                        NaN  \n",
       "3                                        NaN  \n",
       "4                                        NaN  \n",
       "5                                        NaN  \n",
       "6                                        NaN  \n",
       "7                                        NaN  \n",
       "8                                        NaN  \n",
       "9                                        NaN  \n",
       "10                 Media muestral = 0.628209  "
      ]
     },
     "execution_count": 87,
     "metadata": {},
     "output_type": "execute_result"
    }
   ],
   "source": [
    "np.random.seed(55555)\n",
    "ui = np.random.rand(10)\n",
    "i = [i for i in range(1,11)]\n",
    "\n",
    "# Definimos la tabla donde se mostrarán los resultados\n",
    "df = pd.DataFrame(index= i,columns=['Numero_Aleatorio', 'Observacion_generada','Media_muestral'], dtype='float')\n",
    "df.index.name = \"Cantidad_terminos\"\n",
    "\n",
    "xi = -np.log(ui)\n",
    "\n",
    "media_no_estrato = np.mean(xi)\n",
    "# Mostramos los resultados en la tabla previamente creada\n",
    "df.loc[len(i),\"Media_muestral\"] ='Media muestral = %f'%media_no_estrato\n",
    "df.loc[i,\"Numero_Aleatorio\"] = ui\n",
    "df.loc[i,\"Observacion_generada\"] = xi\n",
    "# print('La media de la muestra es=',np.mean(xi)\n",
    "df\n"
   ]
  },
  {
   "attachments": {
    "imagen.png": {
     "image/png": "[encoded data removed]"
    }
   },
   "cell_type": "markdown",
   "metadata": {},
   "source": [
    "### Usando muestreo estratificado\n",
    "\n",
    "![imagen.png](attachment:imagen.png)"
   ]
  },
  {
   "attachments": {
    "imagen.png": {
     "image/png": "[encoded data removed]"
    }
   },
   "cell_type": "markdown",
   "metadata": {},
   "source": [
    "![imagen.png](attachment:imagen.png)"
   ]
  },
  {
   "cell_type": "code",
   "execution_count": 85,
   "metadata": {},
   "outputs": [
    {
     "data": {
      "text/html": [
       "<div>\n",
       "<style>\n",
       "    .dataframe thead tr:only-child th {\n",
       "        text-align: right;\n",
       "    }\n",
       "\n",
       "    .dataframe thead th {\n",
       "        text-align: left;\n",
       "    }\n",
       "\n",
       "    .dataframe tbody tr th {\n",
       "        vertical-align: top;\n",
       "    }\n",
       "</style>\n",
       "<table border=\"1\" class=\"dataframe\">\n",
       "  <thead>\n",
       "    <tr style=\"text-align: right;\">\n",
       "      <th></th>\n",
       "      <th>Numero_Aleatorio_Estrato</th>\n",
       "      <th>Observacion_generada</th>\n",
       "      <th>xi/w</th>\n",
       "    </tr>\n",
       "    <tr>\n",
       "      <th>términos</th>\n",
       "      <th></th>\n",
       "      <th></th>\n",
       "      <th></th>\n",
       "    </tr>\n",
       "  </thead>\n",
       "  <tbody>\n",
       "    <tr>\n",
       "      <th>1</th>\n",
       "      <td>0.579751</td>\n",
       "      <td>0.545157</td>\n",
       "      <td>0.872250</td>\n",
       "    </tr>\n",
       "    <tr>\n",
       "      <th>2</th>\n",
       "      <td>0.276113</td>\n",
       "      <td>1.286946</td>\n",
       "      <td>2.059114</td>\n",
       "    </tr>\n",
       "    <tr>\n",
       "      <th>3</th>\n",
       "      <td>0.538485</td>\n",
       "      <td>0.618995</td>\n",
       "      <td>0.990392</td>\n",
       "    </tr>\n",
       "    <tr>\n",
       "      <th>4</th>\n",
       "      <td>0.057293</td>\n",
       "      <td>2.859568</td>\n",
       "      <td>4.575309</td>\n",
       "    </tr>\n",
       "    <tr>\n",
       "      <th>5</th>\n",
       "      <td>0.944662</td>\n",
       "      <td>0.056929</td>\n",
       "      <td>0.045543</td>\n",
       "    </tr>\n",
       "    <tr>\n",
       "      <th>6</th>\n",
       "      <td>0.784803</td>\n",
       "      <td>0.242322</td>\n",
       "      <td>0.193858</td>\n",
       "    </tr>\n",
       "    <tr>\n",
       "      <th>7</th>\n",
       "      <td>0.839425</td>\n",
       "      <td>0.175038</td>\n",
       "      <td>0.140030</td>\n",
       "    </tr>\n",
       "    <tr>\n",
       "      <th>8</th>\n",
       "      <td>0.682494</td>\n",
       "      <td>0.382001</td>\n",
       "      <td>0.305601</td>\n",
       "    </tr>\n",
       "    <tr>\n",
       "      <th>9</th>\n",
       "      <td>0.984360</td>\n",
       "      <td>0.015763</td>\n",
       "      <td>0.003153</td>\n",
       "    </tr>\n",
       "    <tr>\n",
       "      <th>10</th>\n",
       "      <td>0.997523</td>\n",
       "      <td>0.002480</td>\n",
       "      <td>0.000496</td>\n",
       "    </tr>\n",
       "  </tbody>\n",
       "</table>\n",
       "</div>"
      ],
      "text/plain": [
       "          Numero_Aleatorio_Estrato  Observacion_generada      xi/w\n",
       "términos                                                          \n",
       "1                         0.579751              0.545157  0.872250\n",
       "2                         0.276113              1.286946  2.059114\n",
       "3                         0.538485              0.618995  0.990392\n",
       "4                         0.057293              2.859568  4.575309\n",
       "5                         0.944662              0.056929  0.045543\n",
       "6                         0.784803              0.242322  0.193858\n",
       "7                         0.839425              0.175038  0.140030\n",
       "8                         0.682494              0.382001  0.305601\n",
       "9                         0.984360              0.015763  0.003153\n",
       "10                        0.997523              0.002480  0.000496"
      ]
     },
     "execution_count": 85,
     "metadata": {},
     "output_type": "execute_result"
    }
   ],
   "source": [
    "np.random.seed(555555)\n",
    "r1 = np.random.uniform(0,0.64,4)\n",
    "r2 = np.random.uniform(0.64,0.96,4)\n",
    "r3 = np.random.uniform(0.96,1,2)\n",
    "r  = [r1,r2,r3]\n",
    "m  = range(len(r))  # Cantidad de estratos\n",
    "w  = [5/8,5/4,5]\n",
    "xi = list(map(lambda r:-np.log(r),r))\n",
    "muestras = np.concatenate([(xi[i]/w[i]).tolist() for i in m])\n",
    "\n",
    "# Definimos la tabla donde se mostrarán los resultados\n",
    "df = pd.DataFrame(index= i,columns=['Numero_Aleatorio_Estrato','Observacion_generada','xi/w'], dtype='float')\n",
    "df.index.name = \"términos\"\n",
    "\n",
    "i = [i for i in range(1,11)]\n",
    "# Mostramos los resultados en la tabla previamente creada\n",
    "df.loc[i,\"Numero_Aleatorio_Estrato\"] = np.concatenate(r)\n",
    "df.loc[i,\"Observacion_generada\"] = np.concatenate(xi)\n",
    "df.loc[i,\"xi/w\"] = muestras\n",
    "# print('La media de la muestra es=',np.mean(xi)\n",
    "df"
   ]
  },
  {
   "cell_type": "code",
   "execution_count": 90,
   "metadata": {},
   "outputs": [
    {
     "name": "stdout",
     "output_type": "stream",
     "text": [
      "La media muestral estimada método estratificado es    =  0.918574617391\n",
      "La media muestral estimada método no estratificado es =  0.628208640474\n",
      "Error relativo método estratificado    =  8.14253826089\n",
      "Error relativo método no estratificado =  37.1791359526\n"
     ]
    }
   ],
   "source": [
    "media_estrato = np.mean(muestras)\n",
    "print('La media muestral estimada método estratificado es    = ',media_estrato)\n",
    "print('La media muestral estimada método no estratificado es = ',media_no_estrato)\n",
    "print('Error relativo método estratificado    = ',(1-media_estrato)*100)\n",
    "print('Error relativo método no estratificado = ',(1-media_no_estrato)*100)"
   ]
  },
  {
   "attachments": {
    "imagen.png": {
     "image/png": "[encoded data removed]"
    }
   },
   "cell_type": "markdown",
   "metadata": {},
   "source": [
    "# <font color = red> Tarea\n",
    "1). <font color = red> Imagine una rutina contable utilizada en una librería. Funciona en una lista con sublistas, que se ven así:\n",
    "![imagen.png](attachment:imagen.png)\n",
    "\n",
    "Escriba un programa en Python, que devuelve una lista con tuplas de tamaño 2. Cada tupla consiste en el número de pedido y el producto del precio por artículo y la cantidad. El producto debe aumentarse en 10, - € si el valor de la orden es inferior a 100,00 €. \n",
    "Escribe un programa Python usando las funciones **lambda y map** no se pueden usar ciclos for.\n",
    "\n",
    "2). La misma librería, pero esta vez trabajamos en una lista diferente. Las sublistas de nuestras listas se ven así: \n",
    "[número de orden, (número de artículo, cantidad, precio por unidad), ... (número de artículo, cantidad, precio por unidad)] \n",
    ">          orders = [ [1, (\"5464\", 4, 9.99), (\"8274\",18,12.99), (\"9744\", 9, 44.95)], \n",
    ">\t       [2, (\"5464\", 9, 9.99), (\"9744\", 9, 44.95)],\n",
    ">\t       [3, (\"5464\", 9, 9.99), (\"88112\", 11, 24.99)],\n",
    ">          [4, (\"8732\", 7, 11.99), (\"7733\",11,18.99), (\"88112\", 5, 39.95)] ]\n",
    "\n",
    "Escriba un programa que devuelva una lista de dos tuplas (número de pedido, cantidad total de pedido), usando las funciones **lambda y map** no se pueden usar ciclos for."
   ]
  },
  {
   "cell_type": "markdown",
   "metadata": {},
   "source": [
    "<script>\n",
    "  $(document).ready(function(){\n",
    "    $('div.prompt').hide();\n",
    "    $('div.back-to-top').hide();\n",
    "    $('nav#menubar').hide();\n",
    "    $('.breadcrumb').hide();\n",
    "    $('.hidden-print').hide();\n",
    "  });\n",
    "</script>\n",
    "\n",
    "<footer id=\"attribution\" style=\"float:right; color:#808080; background:#fff;\">\n",
    "Created with Jupyter by Oscar David Jaramillo Zuluaga.\n",
    "</footer>"
   ]
  }
 ],
 "metadata": {
  "kernelspec": {
   "display_name": "Python 3",
   "language": "python",
   "name": "python3"
  },
  "language_info": {
   "codemirror_mode": {
    "name": "ipython",
    "version": 3
   },
   "file_extension": ".py",
   "mimetype": "text/x-python",
   "name": "python",
   "nbconvert_exporter": "python",
   "pygments_lexer": "ipython3",
   "version": "3.6.2"
  }
 },
 "nbformat": 4,
 "nbformat_minor": 2
}
